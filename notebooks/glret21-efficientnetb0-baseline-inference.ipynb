{
 "cells": [
  {
   "cell_type": "markdown",
   "id": "1542f079",
   "metadata": {
    "_cell_guid": "b1076dfc-b9ad-4769-8c92-a6c4dae69d19",
    "_uuid": "8f2839f25d086af736a60e9eeb907d3b93b6e0e5",
    "papermill": {
     "duration": 0.015963,
     "end_time": "2021-08-31T13:49:31.567281",
     "exception": false,
     "start_time": "2021-08-31T13:49:31.551318",
     "status": "completed"
    },
    "tags": []
   },
   "source": [
    "## About\n",
    "\n",
    "In this notebook, I'll create a submission with the models of [GLRet21: EfficientNetB0 Baseline Training](https://www.kaggle.com/hidehisaarai1213/glret21-efficientnetb0-baseline-training).\n",
    "\n",
    "This notebook is based on [DELG_global_baseline](https://www.kaggle.com/wowfattie/delg-global-baseline)."
   ]
  },
  {
   "cell_type": "code",
   "execution_count": 1,
   "id": "093348c9",
   "metadata": {
    "execution": {
     "iopub.execute_input": "2021-08-31T13:49:31.609447Z",
     "iopub.status.busy": "2021-08-31T13:49:31.608938Z",
     "iopub.status.idle": "2021-08-31T13:50:28.067157Z",
     "shell.execute_reply": "2021-08-31T13:50:28.066584Z",
     "shell.execute_reply.started": "2021-08-31T13:35:02.611425Z"
    },
    "papermill": {
     "duration": 56.484962,
     "end_time": "2021-08-31T13:50:28.067310",
     "exception": false,
     "start_time": "2021-08-31T13:49:31.582348",
     "status": "completed"
    },
    "tags": []
   },
   "outputs": [
    {
     "name": "stdout",
     "output_type": "stream",
     "text": [
      "\u001b[33m  DEPRECATION: A future pip version will change local packages to be built in-place without first copying to a temporary directory. We recommend you use --use-feature=in-tree-build to test your packages with this new behavior before it becomes the default.\r\n",
      "   pip 21.3 will remove support for this functionality. You can find discussion regarding this at https://github.com/pypa/pip/issues/7555.\u001b[0m\r\n",
      "\u001b[33mWARNING: Running pip as root will break packages and permissions. You should install packages reliably by using venv: https://pip.pypa.io/warnings/venv\u001b[0m\r\n",
      "\u001b[33m  DEPRECATION: A future pip version will change local packages to be built in-place without first copying to a temporary directory. We recommend you use --use-feature=in-tree-build to test your packages with this new behavior before it becomes the default.\r\n",
      "   pip 21.3 will remove support for this functionality. You can find discussion regarding this at https://github.com/pypa/pip/issues/7555.\u001b[0m\r\n",
      "\u001b[33mWARNING: Running pip as root will break packages and permissions. You should install packages reliably by using venv: https://pip.pypa.io/warnings/venv\u001b[0m\r\n"
     ]
    }
   ],
   "source": [
    "!pip install ../input/kerasapplications/ > /dev/null\n",
    "!pip install ../input/efficientnet-keras-source-code/ > /dev/null"
   ]
  },
  {
   "cell_type": "code",
   "execution_count": 2,
   "id": "84110d7d",
   "metadata": {
    "execution": {
     "iopub.execute_input": "2021-08-31T13:50:28.105796Z",
     "iopub.status.busy": "2021-08-31T13:50:28.105252Z",
     "iopub.status.idle": "2021-08-31T13:50:32.848287Z",
     "shell.execute_reply": "2021-08-31T13:50:32.848769Z",
     "shell.execute_reply.started": "2021-08-31T13:43:31.019104Z"
    },
    "papermill": {
     "duration": 4.765199,
     "end_time": "2021-08-31T13:50:32.848938",
     "exception": false,
     "start_time": "2021-08-31T13:50:28.083739",
     "status": "completed"
    },
    "tags": []
   },
   "outputs": [],
   "source": [
    "import gc\n",
    "import os\n",
    "import math\n",
    "import random\n",
    "import re\n",
    "import warnings\n",
    "from pathlib import Path\n",
    "from PIL import Image\n",
    "from typing import Optional, Tuple\n",
    "\n",
    "import efficientnet.tfkeras as efn\n",
    "import numpy as np\n",
    "import pandas as pd\n",
    "import tensorflow as tf\n",
    "from scipy import spatial\n",
    "from sklearn.preprocessing import normalize\n",
    "from tqdm import tqdm"
   ]
  },
  {
   "cell_type": "code",
   "execution_count": 3,
   "id": "75b1bad1",
   "metadata": {
    "execution": {
     "iopub.execute_input": "2021-08-31T13:50:32.888249Z",
     "iopub.status.busy": "2021-08-31T13:50:32.887736Z",
     "iopub.status.idle": "2021-08-31T13:50:32.893785Z",
     "shell.execute_reply": "2021-08-31T13:50:32.893238Z",
     "shell.execute_reply.started": "2021-08-31T13:36:04.061035Z"
    },
    "papermill": {
     "duration": 0.028502,
     "end_time": "2021-08-31T13:50:32.893911",
     "exception": false,
     "start_time": "2021-08-31T13:50:32.865409",
     "status": "completed"
    },
    "tags": []
   },
   "outputs": [
    {
     "data": {
      "text/plain": [
       "'2.4.1'"
      ]
     },
     "execution_count": 3,
     "metadata": {},
     "output_type": "execute_result"
    }
   ],
   "source": [
    "tf.__version__"
   ]
  },
  {
   "cell_type": "code",
   "execution_count": 4,
   "id": "3c54f73a",
   "metadata": {
    "execution": {
     "iopub.execute_input": "2021-08-31T13:50:33.068859Z",
     "iopub.status.busy": "2021-08-31T13:50:33.068142Z",
     "iopub.status.idle": "2021-08-31T13:50:33.074070Z",
     "shell.execute_reply": "2021-08-31T13:50:33.074524Z",
     "shell.execute_reply.started": "2021-08-31T13:36:04.083185Z"
    },
    "papermill": {
     "duration": 0.164518,
     "end_time": "2021-08-31T13:50:33.074689",
     "exception": false,
     "start_time": "2021-08-31T13:50:32.910171",
     "status": "completed"
    },
    "tags": []
   },
   "outputs": [
    {
     "name": "stdout",
     "output_type": "stream",
     "text": [
      "Num GPUs Available:  1\n"
     ]
    }
   ],
   "source": [
    "print(\"Num GPUs Available: \", len(tf.config.experimental.list_physical_devices('GPU')))"
   ]
  },
  {
   "cell_type": "markdown",
   "id": "7c5e8c83",
   "metadata": {
    "papermill": {
     "duration": 0.020033,
     "end_time": "2021-08-31T13:50:33.114746",
     "exception": false,
     "start_time": "2021-08-31T13:50:33.094713",
     "status": "completed"
    },
    "tags": []
   },
   "source": [
    "## Settings"
   ]
  },
  {
   "cell_type": "code",
   "execution_count": 5,
   "id": "e285d642",
   "metadata": {
    "execution": {
     "iopub.execute_input": "2021-08-31T13:50:33.158004Z",
     "iopub.status.busy": "2021-08-31T13:50:33.157344Z",
     "iopub.status.idle": "2021-08-31T13:50:33.161568Z",
     "shell.execute_reply": "2021-08-31T13:50:33.161106Z",
     "shell.execute_reply.started": "2021-08-31T13:36:04.230428Z"
    },
    "papermill": {
     "duration": 0.027396,
     "end_time": "2021-08-31T13:50:33.161737",
     "exception": false,
     "start_time": "2021-08-31T13:50:33.134341",
     "status": "completed"
    },
    "tags": []
   },
   "outputs": [],
   "source": [
    "DATADIR = Path(\"../input/landmark-retrieval-2021/\")\n",
    "TEST_IMAGE_DIR = DATADIR / \"test\"\n",
    "TRAIN_IMAGE_DIR = DATADIR / \"index\"\n",
    "\n",
    "TOPK = 100\n",
    "N_CLASSES = 81313"
   ]
  },
  {
   "cell_type": "markdown",
   "id": "c76858d5",
   "metadata": {
    "papermill": {
     "duration": 0.018182,
     "end_time": "2021-08-31T13:50:33.207480",
     "exception": false,
     "start_time": "2021-08-31T13:50:33.189298",
     "status": "completed"
    },
    "tags": []
   },
   "source": [
    "## Utilities"
   ]
  },
  {
   "cell_type": "code",
   "execution_count": 6,
   "id": "413c732b",
   "metadata": {
    "execution": {
     "iopub.execute_input": "2021-08-31T13:50:33.250217Z",
     "iopub.status.busy": "2021-08-31T13:50:33.248607Z",
     "iopub.status.idle": "2021-08-31T13:50:33.251138Z",
     "shell.execute_reply": "2021-08-31T13:50:33.251578Z",
     "shell.execute_reply.started": "2021-08-31T13:36:04.236667Z"
    },
    "papermill": {
     "duration": 0.025741,
     "end_time": "2021-08-31T13:50:33.251705",
     "exception": false,
     "start_time": "2021-08-31T13:50:33.225964",
     "status": "completed"
    },
    "tags": []
   },
   "outputs": [],
   "source": [
    "import time\n",
    "\n",
    "from contextlib import contextmanager\n",
    "\n",
    "\n",
    "@contextmanager\n",
    "def timer(name):\n",
    "    t0 = time.time()\n",
    "    print(f\"[{name}]\")\n",
    "    yield\n",
    "    print(f'[{name}] done in {time.time() - t0:.0f} s')"
   ]
  },
  {
   "cell_type": "code",
   "execution_count": 7,
   "id": "84604292",
   "metadata": {
    "execution": {
     "iopub.execute_input": "2021-08-31T13:50:33.293354Z",
     "iopub.status.busy": "2021-08-31T13:50:33.292844Z",
     "iopub.status.idle": "2021-08-31T13:50:33.296779Z",
     "shell.execute_reply": "2021-08-31T13:50:33.296342Z",
     "shell.execute_reply.started": "2021-08-31T13:36:04.245696Z"
    },
    "papermill": {
     "duration": 0.026063,
     "end_time": "2021-08-31T13:50:33.296890",
     "exception": false,
     "start_time": "2021-08-31T13:50:33.270827",
     "status": "completed"
    },
    "tags": []
   },
   "outputs": [],
   "source": [
    "def set_seed(seed=42):\n",
    "    random.seed(seed)\n",
    "    os.environ[\"PYTHONHASHSEED\"] = str(seed)\n",
    "    np.random.seed(seed)\n",
    "    tf.random.set_seed(seed)\n",
    "\n",
    "\n",
    "set_seed(1213)"
   ]
  },
  {
   "cell_type": "code",
   "execution_count": 8,
   "id": "ec0f62c1",
   "metadata": {
    "execution": {
     "iopub.execute_input": "2021-08-31T13:50:33.337818Z",
     "iopub.status.busy": "2021-08-31T13:50:33.336513Z",
     "iopub.status.idle": "2021-08-31T13:50:33.338803Z",
     "shell.execute_reply": "2021-08-31T13:50:33.339248Z",
     "shell.execute_reply.started": "2021-08-31T13:36:04.254819Z"
    },
    "papermill": {
     "duration": 0.025145,
     "end_time": "2021-08-31T13:50:33.339370",
     "exception": false,
     "start_time": "2021-08-31T13:50:33.314225",
     "status": "completed"
    },
    "tags": []
   },
   "outputs": [],
   "source": [
    "def auto_select_accelerator():\n",
    "    try:\n",
    "        tpu = tf.distribute.cluster_resolver.TPUClusterResolver()\n",
    "        tf.config.experimental_connect_to_cluster(tpu)\n",
    "        tf.tpu.experimental.initialize_tpu_system(tpu)\n",
    "        strategy = tf.distribute.experimental.TPUStrategy(tpu)\n",
    "        print(\"Running on TPU:\", tpu.master())\n",
    "    except ValueError:\n",
    "        strategy = tf.distribute.get_strategy()\n",
    "    print(f\"Running on {strategy.num_replicas_in_sync} replicas\")\n",
    "    return strategy"
   ]
  },
  {
   "cell_type": "code",
   "execution_count": 9,
   "id": "c7873cd6",
   "metadata": {
    "execution": {
     "iopub.execute_input": "2021-08-31T13:50:33.377937Z",
     "iopub.status.busy": "2021-08-31T13:50:33.377247Z",
     "iopub.status.idle": "2021-08-31T13:50:33.385899Z",
     "shell.execute_reply": "2021-08-31T13:50:33.385150Z",
     "shell.execute_reply.started": "2021-08-31T13:36:04.262405Z"
    },
    "papermill": {
     "duration": 0.029391,
     "end_time": "2021-08-31T13:50:33.386010",
     "exception": false,
     "start_time": "2021-08-31T13:50:33.356619",
     "status": "completed"
    },
    "tags": []
   },
   "outputs": [
    {
     "name": "stdout",
     "output_type": "stream",
     "text": [
      "Running on 1 replicas\n"
     ]
    }
   ],
   "source": [
    "strategy = auto_select_accelerator()\n",
    "REPLICAS = strategy.num_replicas_in_sync\n",
    "AUTO = tf.data.experimental.AUTOTUNE"
   ]
  },
  {
   "cell_type": "markdown",
   "id": "428153dc",
   "metadata": {
    "papermill": {
     "duration": 0.018049,
     "end_time": "2021-08-31T13:50:33.421955",
     "exception": false,
     "start_time": "2021-08-31T13:50:33.403906",
     "status": "completed"
    },
    "tags": []
   },
   "source": [
    "## Model"
   ]
  },
  {
   "cell_type": "code",
   "execution_count": 10,
   "id": "80a6430e",
   "metadata": {
    "execution": {
     "iopub.execute_input": "2021-08-31T13:50:33.469344Z",
     "iopub.status.busy": "2021-08-31T13:50:33.467981Z",
     "iopub.status.idle": "2021-08-31T13:50:33.470386Z",
     "shell.execute_reply": "2021-08-31T13:50:33.470829Z",
     "shell.execute_reply.started": "2021-08-31T13:36:04.276517Z"
    },
    "papermill": {
     "duration": 0.030537,
     "end_time": "2021-08-31T13:50:33.470958",
     "exception": false,
     "start_time": "2021-08-31T13:50:33.440421",
     "status": "completed"
    },
    "tags": []
   },
   "outputs": [],
   "source": [
    "class GeM(tf.keras.layers.Layer):\n",
    "    def __init__(self, pool_size, init_norm=3.0, normalize=False, **kwargs):\n",
    "        self.pool_size = pool_size\n",
    "        self.init_norm = init_norm\n",
    "        self.normalize = normalize\n",
    "\n",
    "        super(GeM, self).__init__(**kwargs)\n",
    "\n",
    "    def get_config(self):\n",
    "        config = super().get_config().copy()\n",
    "        config.update({\n",
    "            'pool_size': self.pool_size,\n",
    "            'init_norm': self.init_norm,\n",
    "            'normalize': self.normalize,\n",
    "        })\n",
    "        return config\n",
    "\n",
    "    def build(self, input_shape):\n",
    "        feature_size = input_shape[-1]\n",
    "        self.p = self.add_weight(name='norms', shape=(feature_size,),\n",
    "                                 initializer=tf.keras.initializers.constant(self.init_norm),\n",
    "                                 trainable=True)\n",
    "        super(GeM, self).build(input_shape)\n",
    "\n",
    "    def call(self, inputs):\n",
    "        x = inputs\n",
    "        x = tf.math.maximum(x, 1e-6)\n",
    "        x = tf.pow(x, self.p)\n",
    "\n",
    "        x = tf.nn.avg_pool(x, self.pool_size, self.pool_size, 'VALID')\n",
    "        x = tf.pow(x, 1.0 / self.p)\n",
    "\n",
    "        if self.normalize:\n",
    "            x = tf.nn.l2_normalize(x, 1)\n",
    "        return x\n",
    "\n",
    "    def compute_output_shape(self, input_shape):\n",
    "        return tuple([None, input_shape[-1]])"
   ]
  },
  {
   "cell_type": "code",
   "execution_count": 11,
   "id": "3f5d5b7c",
   "metadata": {
    "execution": {
     "iopub.execute_input": "2021-08-31T13:50:33.523014Z",
     "iopub.status.busy": "2021-08-31T13:50:33.521185Z",
     "iopub.status.idle": "2021-08-31T13:50:33.523725Z",
     "shell.execute_reply": "2021-08-31T13:50:33.524149Z",
     "shell.execute_reply.started": "2021-08-31T13:36:04.288211Z"
    },
    "papermill": {
     "duration": 0.035359,
     "end_time": "2021-08-31T13:50:33.524277",
     "exception": false,
     "start_time": "2021-08-31T13:50:33.488918",
     "status": "completed"
    },
    "tags": []
   },
   "outputs": [],
   "source": [
    "class ArcMarginProduct(tf.keras.layers.Layer):\n",
    "    '''\n",
    "    Implements large margin arc distance.\n",
    "\n",
    "    Reference:\n",
    "        https://arxiv.org/pdf/1801.07698.pdf\n",
    "        https://github.com/lyakaap/Landmark2019-1st-and-3rd-Place-Solution/\n",
    "            blob/master/src/modeling/metric_learning.py\n",
    "    '''\n",
    "    def __init__(self, n_classes, s=30, m=0.50, easy_margin=False,\n",
    "                 ls_eps=0.0, **kwargs):\n",
    "\n",
    "        super(ArcMarginProduct, self).__init__(**kwargs)\n",
    "\n",
    "        self.n_classes = n_classes\n",
    "        self.s = s\n",
    "        self.m = m\n",
    "        self.ls_eps = ls_eps\n",
    "        self.easy_margin = easy_margin\n",
    "        self.cos_m = tf.math.cos(m)\n",
    "        self.sin_m = tf.math.sin(m)\n",
    "        self.th = tf.math.cos(math.pi - m)\n",
    "        self.mm = tf.math.sin(math.pi - m) * m\n",
    "\n",
    "    def get_config(self):\n",
    "\n",
    "        config = super().get_config().copy()\n",
    "        config.update({\n",
    "            'n_classes': self.n_classes,\n",
    "            's': self.s,\n",
    "            'm': self.m,\n",
    "            'ls_eps': self.ls_eps,\n",
    "            'easy_margin': self.easy_margin,\n",
    "        })\n",
    "        return config\n",
    "\n",
    "    def build(self, input_shape):\n",
    "        super(ArcMarginProduct, self).build(input_shape[0])\n",
    "\n",
    "        self.W = self.add_weight(\n",
    "            name='W',\n",
    "            shape=(int(input_shape[0][-1]), self.n_classes),\n",
    "            initializer='glorot_uniform',\n",
    "            dtype='float32',\n",
    "            trainable=True,\n",
    "            regularizer=None)\n",
    "\n",
    "    def call(self, inputs):\n",
    "        X, y = inputs\n",
    "        y = tf.cast(y, dtype=tf.int32)\n",
    "        cosine = tf.matmul(\n",
    "            tf.math.l2_normalize(X, axis=1),\n",
    "            tf.math.l2_normalize(self.W, axis=0)\n",
    "        )\n",
    "        sine = tf.math.sqrt(1.0 - tf.math.pow(cosine, 2))\n",
    "        phi = cosine * self.cos_m - sine * self.sin_m\n",
    "        if self.easy_margin:\n",
    "            phi = tf.where(cosine > 0, phi, cosine)\n",
    "        else:\n",
    "            phi = tf.where(cosine > self.th, phi, cosine - self.mm)\n",
    "        one_hot = tf.cast(\n",
    "            tf.one_hot(y, depth=self.n_classes),\n",
    "            dtype=cosine.dtype\n",
    "        )\n",
    "        if self.ls_eps > 0:\n",
    "            one_hot = (1 - self.ls_eps) * one_hot + self.ls_eps / self.n_classes\n",
    "\n",
    "        output = (one_hot * phi) + ((1.0 - one_hot) * cosine)\n",
    "        output *= self.s\n",
    "        return output"
   ]
  },
  {
   "cell_type": "code",
   "execution_count": 12,
   "id": "6204a5e3",
   "metadata": {
    "execution": {
     "iopub.execute_input": "2021-08-31T13:50:33.569599Z",
     "iopub.status.busy": "2021-08-31T13:50:33.568311Z",
     "iopub.status.idle": "2021-08-31T13:50:33.571089Z",
     "shell.execute_reply": "2021-08-31T13:50:33.570695Z",
     "shell.execute_reply.started": "2021-08-31T13:36:04.307378Z"
    },
    "papermill": {
     "duration": 0.028743,
     "end_time": "2021-08-31T13:50:33.571192",
     "exception": false,
     "start_time": "2021-08-31T13:50:33.542449",
     "status": "completed"
    },
    "tags": []
   },
   "outputs": [],
   "source": [
    "def build_model(size=256, efficientnet_size=0, weights=\"imagenet\", count=0):\n",
    "    inp = tf.keras.layers.Input(shape=(size, size, 3), name=\"inp1\")\n",
    "    label = tf.keras.layers.Input(shape=(), name=\"inp2\")\n",
    "    x = getattr(efn, f\"EfficientNetB{efficientnet_size}\")(\n",
    "        weights=weights, include_top=False, input_shape=(size, size, 3))(inp)\n",
    "    x = GeM(8)(x)\n",
    "    x = tf.keras.layers.Flatten()(x)\n",
    "    x = tf.keras.layers.Dense(512, name=\"dense_before_arcface\", kernel_initializer=\"he_normal\")(x)\n",
    "    x = tf.keras.layers.BatchNormalization()(x)\n",
    "    x = ArcMarginProduct(\n",
    "        n_classes=N_CLASSES,\n",
    "        s=30,\n",
    "        m=0.5,\n",
    "        name=\"head/arc_margin\",\n",
    "        dtype=\"float32\"\n",
    "    )([x, label])\n",
    "    output = tf.keras.layers.Softmax(dtype=\"float32\")(x)\n",
    "    model = tf.keras.Model(inputs=[inp, label], outputs=[output])\n",
    "    opt = tf.optimizers.Adam(learning_rate=1e-4)\n",
    "    model.compile(\n",
    "        optimizer=opt,\n",
    "        loss=[tf.keras.losses.SparseCategoricalCrossentropy()],\n",
    "        metrics=[tf.keras.metrics.SparseCategoricalAccuracy()]\n",
    "    )\n",
    "    return model"
   ]
  },
  {
   "cell_type": "code",
   "execution_count": 13,
   "id": "b3235287",
   "metadata": {
    "execution": {
     "iopub.execute_input": "2021-08-31T13:50:33.611270Z",
     "iopub.status.busy": "2021-08-31T13:50:33.610053Z",
     "iopub.status.idle": "2021-08-31T13:50:33.612558Z",
     "shell.execute_reply": "2021-08-31T13:50:33.613005Z",
     "shell.execute_reply.started": "2021-08-31T13:37:54.296755Z"
    },
    "papermill": {
     "duration": 0.024845,
     "end_time": "2021-08-31T13:50:33.613128",
     "exception": false,
     "start_time": "2021-08-31T13:50:33.588283",
     "status": "completed"
    },
    "tags": []
   },
   "outputs": [],
   "source": [
    "def create_model_for_inference(weights_path: str):\n",
    "    with strategy.scope():\n",
    "        base_model = build_model(\n",
    "            size=256,\n",
    "            efficientnet_size=0,\n",
    "            weights=None,\n",
    "            count=0)\n",
    "        base_model.load_weights(weights_path)\n",
    "        model = tf.keras.Model(inputs=base_model.get_layer(\"inp1\").input,\n",
    "                               outputs=base_model.get_layer(\"dense_before_arcface\").output)\n",
    "        return model"
   ]
  },
  {
   "cell_type": "markdown",
   "id": "f2da9403",
   "metadata": {
    "papermill": {
     "duration": 0.016633,
     "end_time": "2021-08-31T13:50:33.646881",
     "exception": false,
     "start_time": "2021-08-31T13:50:33.630248",
     "status": "completed"
    },
    "tags": []
   },
   "source": [
    "## Feature Extraction"
   ]
  },
  {
   "cell_type": "code",
   "execution_count": 14,
   "id": "dfb90e54",
   "metadata": {
    "execution": {
     "iopub.execute_input": "2021-08-31T13:50:33.687351Z",
     "iopub.status.busy": "2021-08-31T13:50:33.686852Z",
     "iopub.status.idle": "2021-08-31T13:50:33.690513Z",
     "shell.execute_reply": "2021-08-31T13:50:33.690081Z",
     "shell.execute_reply.started": "2021-08-31T13:38:00.630554Z"
    },
    "papermill": {
     "duration": 0.026753,
     "end_time": "2021-08-31T13:50:33.690614",
     "exception": false,
     "start_time": "2021-08-31T13:50:33.663861",
     "status": "completed"
    },
    "tags": []
   },
   "outputs": [],
   "source": [
    "def to_hex(image_id) -> str:\n",
    "    return '{0:0{1}x}'.format(image_id, 16)\n",
    "\n",
    "\n",
    "def get_image_path(subset, image_id):\n",
    "    name = to_hex(image_id)\n",
    "    return os.path.join(DATASET_DIR, subset, name[0], name[1], name[2], '{}.jpg'.format(name))\n",
    "\n",
    "\n",
    "def load_image_tensor(image_path):\n",
    "    tensor = tf.convert_to_tensor(np.array(Image.open(image_path).convert(\"RGB\")))\n",
    "    tensor = tf.image.resize(tensor, size=(256, 256))\n",
    "    tensor = tf.expand_dims(tensor, axis=0)\n",
    "    return tf.cast(tensor, tf.float32) / 255.0\n",
    "\n",
    "\n",
    "def create_batch(files):\n",
    "    images = []\n",
    "    for f in files:\n",
    "        images.append(load_image_tensor(f))\n",
    "    return tf.concat(images, axis=0)"
   ]
  },
  {
   "cell_type": "code",
   "execution_count": 15,
   "id": "e3129f8c",
   "metadata": {
    "execution": {
     "iopub.execute_input": "2021-08-31T13:50:33.733406Z",
     "iopub.status.busy": "2021-08-31T13:50:33.732915Z",
     "iopub.status.idle": "2021-08-31T13:50:33.736215Z",
     "shell.execute_reply": "2021-08-31T13:50:33.736607Z",
     "shell.execute_reply.started": "2021-08-31T13:46:54.028912Z"
    },
    "papermill": {
     "duration": 0.029301,
     "end_time": "2021-08-31T13:50:33.736729",
     "exception": false,
     "start_time": "2021-08-31T13:50:33.707428",
     "status": "completed"
    },
    "tags": []
   },
   "outputs": [],
   "source": [
    "def extract_global_features(image_root_dir, n_models=4):\n",
    "    image_paths = []\n",
    "    for root, dirs, files in os.walk(image_root_dir):\n",
    "        for file in files:\n",
    "            if file.endswith('.jpg'):\n",
    "                 image_paths.append(os.path.join(root, file))\n",
    "                    \n",
    "    num_embeddings = len(image_paths)\n",
    "\n",
    "    ids = num_embeddings * [None]\n",
    "    ids = []\n",
    "    for path in image_paths:\n",
    "        ids.append(path.split('/')[-1][:-4])\n",
    "    \n",
    "    embeddings = np.zeros((num_embeddings, 512))\n",
    "    image_paths = np.array(image_paths)\n",
    "    chunk_size = 512\n",
    "    \n",
    "    n_chunks = len(image_paths) // chunk_size\n",
    "    if len(image_paths) % chunk_size != 0:\n",
    "        n_chunks += 1\n",
    "\n",
    "    for n in range(n_models):\n",
    "        print(f\"Getting Embedding for fold{n} model.\")\n",
    "        model = create_model_for_inference(f\"../input/glret21-efficientnetb0-baseline-training/fold{n}.h5\")\n",
    "        for i in tqdm(range(n_chunks)):\n",
    "            files = image_paths[i * chunk_size:(i + 1) * chunk_size]\n",
    "            batch = create_batch(files)\n",
    "            embedding_tensor = model.predict(batch)\n",
    "            embeddings[i * chunk_size:(i + 1) * chunk_size] += embedding_tensor / n_models\n",
    "        del model\n",
    "        gc.collect()\n",
    "        tf.keras.backend.clear_session()\n",
    "\n",
    "    embeddings = normalize(embeddings, axis=1)\n",
    "\n",
    "    return ids, embeddings"
   ]
  },
  {
   "cell_type": "markdown",
   "id": "e4d81d87",
   "metadata": {
    "papermill": {
     "duration": 0.0168,
     "end_time": "2021-08-31T13:50:33.770166",
     "exception": false,
     "start_time": "2021-08-31T13:50:33.753366",
     "status": "completed"
    },
    "tags": []
   },
   "source": [
    "## Main"
   ]
  },
  {
   "cell_type": "code",
   "execution_count": 16,
   "id": "db122424",
   "metadata": {
    "execution": {
     "iopub.execute_input": "2021-08-31T13:50:33.816192Z",
     "iopub.status.busy": "2021-08-31T13:50:33.814959Z",
     "iopub.status.idle": "2021-08-31T13:50:33.817261Z",
     "shell.execute_reply": "2021-08-31T13:50:33.817749Z",
     "shell.execute_reply.started": "2021-08-31T13:46:55.422524Z"
    },
    "papermill": {
     "duration": 0.030617,
     "end_time": "2021-08-31T13:50:33.817878",
     "exception": false,
     "start_time": "2021-08-31T13:50:33.787261",
     "status": "completed"
    },
    "tags": []
   },
   "outputs": [],
   "source": [
    "def get_predictions():\n",
    "    with timer(\"Getting Test Embeddings\"):\n",
    "        test_ids, test_embeddings = extract_global_features(str(TEST_IMAGE_DIR))\n",
    "\n",
    "    with timer(\"Getting Train Embeddings\"):\n",
    "        train_ids, train_embeddings = extract_global_features(str(TRAIN_IMAGE_DIR))\n",
    "\n",
    "    PredictionString_list = []\n",
    "    with timer(\"Matching...\"):\n",
    "        for test_index in range(test_embeddings.shape[0]):\n",
    "            distances = spatial.distance.cdist(test_embeddings[np.newaxis, test_index, :], train_embeddings, 'cosine')[0]\n",
    "            partition = np.argpartition(distances, TOPK)[:TOPK]\n",
    "            nearest = sorted([(train_ids[p], distances[p]) for p in partition], key=lambda x: x[1])\n",
    "            pred_str = \"\"\n",
    "            for train_id, cosine_distance in nearest:\n",
    "                pred_str += train_id\n",
    "                pred_str += \" \"\n",
    "            PredictionString_list.append(pred_str)\n",
    "\n",
    "    return test_ids, PredictionString_list\n",
    "\n",
    "\n",
    "def main():\n",
    "    test_image_list = []\n",
    "    for root, dirs, files in os.walk(str(TEST_IMAGE_DIR)):\n",
    "        for file in files:\n",
    "            if file.endswith('.jpg'):\n",
    "                 test_image_list.append(os.path.join(root, file))\n",
    "                    \n",
    "    if len(test_image_list)==1129:\n",
    "        sub_df = pd.read_csv('../input/landmark-retrieval-2021/sample_submission.csv')\n",
    "        sub_df.to_csv('submission.csv', index=False)\n",
    "        return\n",
    "    \n",
    "    test_ids, PredictionString_list = get_predictions()\n",
    "    sub_df = pd.DataFrame(data={'id': test_ids, 'images': PredictionString_list})\n",
    "    sub_df.to_csv('submission.csv', index=False)"
   ]
  },
  {
   "cell_type": "code",
   "execution_count": 17,
   "id": "53eb6e9f",
   "metadata": {
    "execution": {
     "iopub.execute_input": "2021-08-31T13:50:33.854529Z",
     "iopub.status.busy": "2021-08-31T13:50:33.853906Z",
     "iopub.status.idle": "2021-08-31T13:50:36.652123Z",
     "shell.execute_reply": "2021-08-31T13:50:36.651472Z"
    },
    "papermill": {
     "duration": 2.817503,
     "end_time": "2021-08-31T13:50:36.652252",
     "exception": false,
     "start_time": "2021-08-31T13:50:33.834749",
     "status": "completed"
    },
    "tags": []
   },
   "outputs": [],
   "source": [
    "main()"
   ]
  },
  {
   "cell_type": "code",
   "execution_count": null,
   "id": "325d1917",
   "metadata": {
    "papermill": {
     "duration": 0.016425,
     "end_time": "2021-08-31T13:50:36.685988",
     "exception": false,
     "start_time": "2021-08-31T13:50:36.669563",
     "status": "completed"
    },
    "tags": []
   },
   "outputs": [],
   "source": []
  }
 ],
 "metadata": {
  "kernelspec": {
   "display_name": "Python 3",
   "language": "python",
   "name": "python3"
  },
  "language_info": {
   "codemirror_mode": {
    "name": "ipython",
    "version": 3
   },
   "file_extension": ".py",
   "mimetype": "text/x-python",
   "name": "python",
   "nbconvert_exporter": "python",
   "pygments_lexer": "ipython3",
   "version": "3.7.10"
  },
  "papermill": {
   "default_parameters": {},
   "duration": 73.565531,
   "end_time": "2021-08-31T13:50:38.806772",
   "environment_variables": {},
   "exception": null,
   "input_path": "__notebook__.ipynb",
   "output_path": "__notebook__.ipynb",
   "parameters": {},
   "start_time": "2021-08-31T13:49:25.241241",
   "version": "2.3.3"
  }
 },
 "nbformat": 4,
 "nbformat_minor": 5
}
